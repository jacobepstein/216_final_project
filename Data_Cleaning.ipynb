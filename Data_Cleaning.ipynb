{
 "cells": [
  {
   "cell_type": "markdown",
   "metadata": {},
   "source": [
    "## Data Cleaning"
   ]
  },
  {
   "cell_type": "code",
   "execution_count": 1,
   "metadata": {},
   "outputs": [],
   "source": [
    "import numpy as np\n",
    "import pandas as pd"
   ]
  },
  {
   "cell_type": "code",
   "execution_count": 2,
   "metadata": {},
   "outputs": [],
   "source": [
    "# read in labor force data\n",
    "labor_force = pd.read_csv(\"Data/bls_labor_force_data.csv\", header = 0, low_memory = False)\n",
    "\n",
    "#change data types\n",
    "labor_force[\"employed\"] = labor_force[\"employed\"].str.replace(\",\", \"\").str.replace(\"N.A.\", \"-1\").astype(\"int64\")\n",
    "labor_force[\"labor_force\"] = labor_force[\"labor_force\"].str.replace(\",\", \"\").str.replace(\"N.A.\", \"-1\").astype(\"int64\")\n",
    "labor_force[\"unemployed\"] = labor_force[\"unemployed\"].str.replace(\",\", \"\").str.replace(\"N.A.\", \"-1\").astype(\"int64\")\n",
    "labor_force[\"unemployment_rate\"] = labor_force[\"unemployment_rate\"].str.replace(\"N.A.\", \"-1\").astype(\"float\")"
   ]
  },
  {
   "cell_type": "code",
   "execution_count": 3,
   "metadata": {},
   "outputs": [],
   "source": [
    "#read in gdp data\n",
    "gdp = pd.read_csv(\"Data/bea_gdp_data.csv\", header = 0, encoding='latin-1')\n",
    "\n",
    "#melt so that one year per row\n",
    "ids = list(gdp.columns)[0:7]\n",
    "values = list(gdp.columns)[7:]\n",
    "gdp= gdp.melt(id_vars = ids,  value_vars = values, var_name = \"year\", value_name = \"gdp_thousands\")\n",
    "\n",
    "#generate state and fips codes for merging\n",
    "gdp[\"state_fips_code\"] = gdp[\"GeoFIPS\"] // 1000\n",
    "gdp[\"county_fips_code\"] = gdp[\"GeoFIPS\"] % 1000\n",
    "\n",
    "#remove irrelevant columns\n",
    "del gdp[\"Description\"]\n",
    "del gdp[\"TableName\"]\n",
    "del gdp[\"LineCode\"]\n",
    "del gdp[\"Unit\"]\n",
    "del gdp[\"Region\"]\n",
    "\n",
    "\n",
    "gdp[\"year\"] = gdp[\"year\"].astype(\"int64\")"
   ]
  },
  {
   "cell_type": "code",
   "execution_count": 4,
   "metadata": {},
   "outputs": [],
   "source": [
    "#read in suicide data\n",
    "cdc = pd.read_csv(\"Data/cdc_suicide_data.csv\", header = 0, low_memory='False')\n",
    "\n",
    "del cdc[\"Notes\"]\n",
    "del cdc[\"Year Code\"]\n",
    "\n",
    "cdc = cdc.rename(columns = {\"Year\":\"year\", \"County Code\":\"GeoFIPS\"})"
   ]
  },
  {
   "cell_type": "code",
   "execution_count": 5,
   "metadata": {},
   "outputs": [],
   "source": [
    "#read in census Data\n",
    "census = pd.read_csv(\"Data/census_demos.csv\", header = 0, encoding='latin-1')"
   ]
  },
  {
   "cell_type": "code",
   "execution_count": 6,
   "metadata": {},
   "outputs": [],
   "source": [
    "#clean census Data\n",
    "census = census[census[\"YEAR\"] == 11]\n",
    "census = census[census[\"AGEGRP\"] == 0]\n",
    "census['GeoFIPS'] = census[\"STATE\"] * 1000 + census[\"COUNTY\"]\n",
    "census['pct_white'] = 100 * (census[\"WA_MALE\"] + census[\"WA_FEMALE\"]) / census[\"TOT_POP\"]\n",
    "census['pct_nonwhite'] = 100 - census['pct_white']\n",
    "census = census.iloc[:, np.r_[0:4,11:14]]"
   ]
  },
  {
   "cell_type": "code",
   "execution_count": 7,
   "metadata": {},
   "outputs": [],
   "source": [
    "#Read in and clean mhhi data\n",
    "mhhi = pd.read_csv(\"Data/mhhi.csv\", header = 0, encoding='latin-1')\n",
    "mhhi = mhhi.rename(columns = {\"Median_Household_Income_2018\":\"mhhi_2018\"})\n",
    "mhhi[\"mhhi_2018\"] = mhhi[\"mhhi_2018\"].str.replace(\"$\", \"\").str.replace(\",\",\"\").astype(float)"
   ]
  },
  {
   "cell_type": "code",
   "execution_count": 8,
   "metadata": {},
   "outputs": [],
   "source": [
    "poverty = pd.read_csv(\"Data/poverty.csv\", header = 0, encoding='latin-1')\n",
    "poverty = poverty.rename(columns = {\"PCTPOVALL_2018\":\"poverty_2018\"})\n",
    "poverty[\"poverty_2018\"] = poverty[\"poverty_2018\"].astype(float) "
   ]
  },
  {
   "cell_type": "code",
   "execution_count": 9,
   "metadata": {},
   "outputs": [],
   "source": [
    "smha = pd.read_csv(\"Data/smha.csv\", header = 0, encoding='latin-1')\n",
    "smha[\"smha_expenditures\"] = smha[\"smha_expenditures\"].str.replace(\"$\", \"\").astype(float)\n"
   ]
  },
  {
   "cell_type": "code",
   "execution_count": 2,
   "metadata": {},
   "outputs": [
    {
     "ename": "NameError",
     "evalue": "name 'pd' is not defined",
     "output_type": "error",
     "traceback": [
      "\u001b[0;31m---------------------------------------------------------------------------\u001b[0m",
      "\u001b[0;31mNameError\u001b[0m                                 Traceback (most recent call last)",
      "\u001b[0;32m<ipython-input-2-e4b5eb1d0352>\u001b[0m in \u001b[0;36m<module>\u001b[0;34m\u001b[0m\n\u001b[1;32m      1\u001b[0m \u001b[0;31m# merge data frames\u001b[0m\u001b[0;34m\u001b[0m\u001b[0;34m\u001b[0m\u001b[0;34m\u001b[0m\u001b[0m\n\u001b[0;32m----> 2\u001b[0;31m \u001b[0mmerged1\u001b[0m \u001b[0;34m=\u001b[0m \u001b[0mpd\u001b[0m\u001b[0;34m.\u001b[0m\u001b[0mmerge\u001b[0m\u001b[0;34m(\u001b[0m\u001b[0mlabor_force\u001b[0m\u001b[0;34m,\u001b[0m \u001b[0mgdp\u001b[0m\u001b[0;34m,\u001b[0m \u001b[0mon\u001b[0m \u001b[0;34m=\u001b[0m \u001b[0;34m[\u001b[0m\u001b[0;34m\"state_fips_code\"\u001b[0m\u001b[0;34m,\u001b[0m \u001b[0;34m\"county_fips_code\"\u001b[0m\u001b[0;34m,\u001b[0m \u001b[0;34m\"year\"\u001b[0m\u001b[0;34m]\u001b[0m\u001b[0;34m)\u001b[0m\u001b[0;34m\u001b[0m\u001b[0;34m\u001b[0m\u001b[0m\n\u001b[0m\u001b[1;32m      3\u001b[0m \u001b[0mmerged2\u001b[0m \u001b[0;34m=\u001b[0m \u001b[0mpd\u001b[0m\u001b[0;34m.\u001b[0m\u001b[0mmerge\u001b[0m\u001b[0;34m(\u001b[0m\u001b[0mmerged1\u001b[0m\u001b[0;34m,\u001b[0m \u001b[0mcensus\u001b[0m\u001b[0;34m,\u001b[0m \u001b[0mon\u001b[0m \u001b[0;34m=\u001b[0m \u001b[0;34m[\u001b[0m\u001b[0;34m\"GeoFIPS\"\u001b[0m\u001b[0;34m]\u001b[0m\u001b[0;34m)\u001b[0m\u001b[0;34m\u001b[0m\u001b[0;34m\u001b[0m\u001b[0m\n\u001b[1;32m      4\u001b[0m \u001b[0mmerged3\u001b[0m \u001b[0;34m=\u001b[0m \u001b[0mpd\u001b[0m\u001b[0;34m.\u001b[0m\u001b[0mmerge\u001b[0m\u001b[0;34m(\u001b[0m\u001b[0mmerged2\u001b[0m\u001b[0;34m,\u001b[0m \u001b[0mmhhi\u001b[0m\u001b[0;34m,\u001b[0m \u001b[0mon\u001b[0m \u001b[0;34m=\u001b[0m \u001b[0;34m[\u001b[0m\u001b[0;34m\"GeoFIPS\"\u001b[0m\u001b[0;34m]\u001b[0m\u001b[0;34m)\u001b[0m\u001b[0;34m\u001b[0m\u001b[0;34m\u001b[0m\u001b[0m\n\u001b[1;32m      5\u001b[0m \u001b[0mmerged4\u001b[0m \u001b[0;34m=\u001b[0m \u001b[0mpd\u001b[0m\u001b[0;34m.\u001b[0m\u001b[0mmerge\u001b[0m\u001b[0;34m(\u001b[0m\u001b[0mmerged3\u001b[0m\u001b[0;34m,\u001b[0m \u001b[0mpoverty\u001b[0m\u001b[0;34m,\u001b[0m \u001b[0mon\u001b[0m \u001b[0;34m=\u001b[0m \u001b[0;34m[\u001b[0m\u001b[0;34m\"GeoFIPS\"\u001b[0m\u001b[0;34m]\u001b[0m\u001b[0;34m)\u001b[0m\u001b[0;34m\u001b[0m\u001b[0;34m\u001b[0m\u001b[0m\n",
      "\u001b[0;31mNameError\u001b[0m: name 'pd' is not defined"
     ]
    }
   ],
   "source": [
    "# merge data frames\n",
    "merged1 = pd.merge(labor_force, gdp, on = [\"state_fips_code\", \"county_fips_code\", \"year\"])\n",
    "merged2 = pd.merge(merged1, census, on = [\"GeoFIPS\"])\n",
    "merged3 = pd.merge(merged2, mhhi, on = [\"GeoFIPS\"])\n",
    "merged4 = pd.merge(merged3, poverty, on = [\"GeoFIPS\"])\n",
    "merged5 = pd.merge(merged4, smha, on = [\"STNAME\"])\n",
    "merged = pd.merge(merged5, cdc, on = [\"GeoFIPS\", \"year\"])\n",
    "\n",
    "\n",
    "geoFIPSnew = merged[\"GeoFIPS\"].astype(\"str\")\n",
    "for i in range(len(geoFIPSnew)):\n",
    "    if len(geoFIPSnew[i]) < 5:\n",
    "        geoFIPSnew[i] = \"0\" + geoFIPSnew[i]\n",
    "\n",
    "merged[\"GeoFIPSnew\"] = geoFIPSnew\n",
    "merged[\"gdp_per_capita\"] = merged[\"gdp_thousands\"].astype(int) * 1000 / merged[\"Population\"]\n",
    "# merged.head()"
   ]
  },
  {
   "cell_type": "code",
   "execution_count": 11,
   "metadata": {},
   "outputs": [],
   "source": [
    "merged.to_excel(\"Data/merged.xlsx\", index = False, header = True)"
   ]
  },
  {
   "cell_type": "code",
   "execution_count": 12,
   "metadata": {},
   "outputs": [],
   "source": [
    "# merged\n",
    "# # Look into what didnt merge\n",
    "# lf = labor_force[labor_force[\"year\"] >= 2001]\n",
    "# #only have bea data 2001 onwards\n",
    "\n",
    "# print(len(gdp))\n",
    "# print(len(lf))\n",
    "# print(len(cdc))\n",
    "# print(len(merged))\n",
    "\n",
    "# merged[\"unique_id\"] = merged[\"laus_code\"] + merged[\"year\"].astype(\"str\")\n",
    "# lf[\"unique_id\"] = lf[\"laus_code\"] + lf[\"year\"].astype(\"str\")\n",
    "# gdp[\"unique_id0\"] = gdp[\"GeoFIPS\"].astype(\"str\") + gdp[\"year\"].astype(\"str\")\n",
    "# merged[\"unique_id0\"] = merged[\"GeoFIPS\"].astype(\"str\") + merged[\"year\"].astype(\"str\")\n",
    "\n",
    "# print(lf[~lf[\"unique_id\"].isin(merged[\"unique_id\"])][\"county_name\"].unique())\n",
    "# # looks like we're missing all of puerto rico bc bea does not include pr data\n",
    "# print(gdp[~gdp[\"unique_id0\"].isin(merged[\"unique_id0\"])][\"GeoName\"].unique())\n",
    "# #on several occasions, multiple VA cities condensed into one line in bea which are left separate in bls... we should probably address this at some point\n",
    "# #otherwise, only state totals excluded (good)"
   ]
  },
  {
   "cell_type": "markdown",
   "metadata": {},
   "source": [
    "\\begin{table}[]\n",
    "\\begin{tabular}{llllllll}\n",
    "GeoFIPS & GeoName     & year & unemployment\\_rate & pct\\_white  & mhhi\\_2018 & poverty\\_2018 & smha\\_expenditures \\\\\n",
    "1001    & Autauga, AL & 2018 & 3.6                & 76.72523875 & 59338      & 13.8          & 76.27              \\\\\n",
    "1001    & Autauga, AL & 2017 & 3.9                & 76.72523875 & 59338      & 13.8          & 76.27              \\\\\n",
    "1001    & Autauga, AL & 2016 & 5.1                & 76.72523875 & 59338      & 13.8          & 76.27              \\\\\n",
    "1001    & Autauga, AL & 2013 & 6.2                & 76.72523875 & 59338      & 13.8          & 76.27             \n",
    "\\end{tabular}\n",
    "\\end{table}"
   ]
  },
  {
   "cell_type": "code",
   "execution_count": 4,
   "metadata": {},
   "outputs": [
    {
     "ename": "SyntaxError",
     "evalue": "unexpected character after line continuation character (<ipython-input-4-98efd34c08a6>, line 2)",
     "output_type": "error",
     "traceback": [
      "\u001b[0;36m  File \u001b[0;32m\"<ipython-input-4-98efd34c08a6>\"\u001b[0;36m, line \u001b[0;32m2\u001b[0m\n\u001b[0;31m    Latex(\\begin{table}[]\u001b[0m\n\u001b[0m                         ^\u001b[0m\n\u001b[0;31mSyntaxError\u001b[0m\u001b[0;31m:\u001b[0m unexpected character after line continuation character\n"
     ]
    }
   ],
   "source": [
    "from IPython.display import Latex\n",
    "Latex(\\begin{table}[]\n",
    "\\begin{tabular}{llllllll}\n",
    "GeoFIPS & GeoName     & year & unemployment\\_rate & pct\\_white  & mhhi\\_2018 & poverty\\_2018 & smha\\_expenditures \\\\\n",
    "1001    & Autauga, AL & 2018 & 3.6                & 76.72523875 & 59338      & 13.8          & 76.27              \\\\\n",
    "1001    & Autauga, AL & 2017 & 3.9                & 76.72523875 & 59338      & 13.8          & 76.27              \\\\\n",
    "1001    & Autauga, AL & 2016 & 5.1                & 76.72523875 & 59338      & 13.8          & 76.27              \\\\\n",
    "1001    & Autauga, AL & 2013 & 6.2                & 76.72523875 & 59338      & 13.8          & 76.27             \n",
    "\\end{tabular}\n",
    "\\end{table})\n"
   ]
  },
  {
   "cell_type": "code",
   "execution_count": null,
   "metadata": {},
   "outputs": [],
   "source": []
  }
 ],
 "metadata": {
  "kernelspec": {
   "display_name": "Python 3",
   "language": "python",
   "name": "python3"
  },
  "language_info": {
   "codemirror_mode": {
    "name": "ipython",
    "version": 3
   },
   "file_extension": ".py",
   "mimetype": "text/x-python",
   "name": "python",
   "nbconvert_exporter": "python",
   "pygments_lexer": "ipython3",
   "version": "3.7.4"
  }
 },
 "nbformat": 4,
 "nbformat_minor": 2
}
