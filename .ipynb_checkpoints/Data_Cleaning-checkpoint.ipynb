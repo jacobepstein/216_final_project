{
 "cells": [
  {
   "cell_type": "markdown",
   "metadata": {},
   "source": [
    "## Data Cleaning"
   ]
  },
  {
   "cell_type": "code",
   "execution_count": 1,
   "metadata": {},
   "outputs": [],
   "source": [
    "import numpy as np\n",
    "import pandas as pd"
   ]
  },
  {
   "cell_type": "code",
   "execution_count": 2,
   "metadata": {},
   "outputs": [],
   "source": [
    "# read in labor force data\n",
    "labor_force = pd.read_csv(\"Data/bls_labor_force_data.csv\", header = 0, low_memory = False)\n",
    "\n",
    "#change data types\n",
    "labor_force[\"employed\"] = labor_force[\"employed\"].str.replace(\",\", \"\").str.replace(\"N.A.\", \"-1\").astype(\"int64\")\n",
    "labor_force[\"labor_force\"] = labor_force[\"labor_force\"].str.replace(\",\", \"\").str.replace(\"N.A.\", \"-1\").astype(\"int64\")\n",
    "labor_force[\"unemployed\"] = labor_force[\"unemployed\"].str.replace(\",\", \"\").str.replace(\"N.A.\", \"-1\").astype(\"int64\")\n",
    "labor_force[\"unemployment_rate\"] = labor_force[\"unemployment_rate\"].str.replace(\"N.A.\", \"-1\").astype(\"float\")"
   ]
  },
  {
   "cell_type": "code",
   "execution_count": 3,
   "metadata": {},
   "outputs": [],
   "source": [
    "#read in gdp data\n",
    "gdp = pd.read_csv(\"Data/bea_gdp_data.csv\", header = 0, encoding='latin-1')\n",
    "\n",
    "#melt so that one year per row\n",
    "ids = list(gdp.columns)[0:7]\n",
    "values = list(gdp.columns)[7:]\n",
    "gdp= gdp.melt(id_vars = ids,  value_vars = values, var_name = \"year\", value_name = \"gdp_thousands\")\n",
    "\n",
    "#generate state and fips codes for merging\n",
    "gdp[\"state_fips_code\"] = gdp[\"GeoFIPS\"] // 1000\n",
    "gdp[\"county_fips_code\"] = gdp[\"GeoFIPS\"] % 1000\n",
    "\n",
    "#remove irrelevant columns\n",
    "del gdp[\"Description\"]\n",
    "del gdp[\"TableName\"]\n",
    "del gdp[\"LineCode\"]\n",
    "del gdp[\"Unit\"]\n",
    "del gdp[\"Region\"]\n",
    "\n",
    "\n",
    "gdp[\"year\"] = gdp[\"year\"].astype(\"int64\")"
   ]
  },
  {
   "cell_type": "code",
   "execution_count": 4,
   "metadata": {},
   "outputs": [],
   "source": [
    "#read in suicide data\n",
    "cdc = pd.read_csv(\"Data/cdc_suicide_data.csv\", header = 0, low_memory='False')\n",
    "\n",
    "del cdc[\"Notes\"]\n",
    "del cdc[\"Year Code\"]\n",
    "\n",
    "cdc = cdc.rename(columns = {\"Year\":\"year\", \"County Code\":\"GeoFIPS\"})"
   ]
  },
  {
   "cell_type": "code",
   "execution_count": 5,
   "metadata": {},
   "outputs": [],
   "source": [
    "# merge data frames\n",
    "merged1 = pd.merge(labor_force, gdp, on = [\"state_fips_code\", \"county_fips_code\", \"year\"])\n",
    "merged = pd.merge(merged1, cdc, on = [\"GeoFIPS\", \"year\"])\n",
    "\n",
    "\n",
    "geoFIPSnew = merged[\"GeoFIPS\"].astype(\"str\")\n",
    "for i in range(len(geoFIPSnew)):\n",
    "    if len(geoFIPSnew[i]) < 5:\n",
    "        geoFIPSnew[i] = \"0\" + geoFIPSnew[i]\n",
    "\n",
    "merged[\"GeoFIPSnew\"] = geoFIPSnew"
   ]
  },
  {
   "cell_type": "code",
   "execution_count": 6,
   "metadata": {},
   "outputs": [],
   "source": [
    "merged.to_excel(\"Data/merged.xlsx\", index = False, header = True)"
   ]
  },
  {
   "cell_type": "code",
   "execution_count": 7,
   "metadata": {},
   "outputs": [
    {
     "name": "stdout",
     "output_type": "stream",
     "text": [
      "57168\n",
      "57924\n",
      "15031\n",
      "14815\n"
     ]
    }
   ],
   "source": [
    "merged.head()\n",
    "\n",
    "# Look into what didnt merge\n",
    "lf = labor_force[labor_force[\"year\"] >= 2001]\n",
    "#only have bea data 2001 onwards\n",
    "\n",
    "print(len(gdp))\n",
    "print(len(lf))\n",
    "print(len(cdc))\n",
    "print(len(merged))\n",
    "\n",
    "# merged[\"unique_id\"] = merged[\"laus_code\"] + merged[\"year\"].astype(\"str\")\n",
    "# lf[\"unique_id\"] = lf[\"laus_code\"] + lf[\"year\"].astype(\"str\")\n",
    "# gdp[\"unique_id0\"] = gdp[\"GeoFIPS\"].astype(\"str\") + gdp[\"year\"].astype(\"str\")\n",
    "# merged[\"unique_id0\"] = merged[\"GeoFIPS\"].astype(\"str\") + merged[\"year\"].astype(\"str\")\n",
    "\n",
    "# print(lf[~lf[\"unique_id\"].isin(merged[\"unique_id\"])][\"county_name\"].unique())\n",
    "# # looks like we're missing all of puerto rico bc bea does not include pr data\n",
    "# print(gdp[~gdp[\"unique_id0\"].isin(merged[\"unique_id0\"])][\"GeoName\"].unique())\n",
    "# #on several occasions, multiple VA cities condensed into one line in bea which are left separate in bls... we should probably address this at some point\n",
    "# #otherwise, only state totals excluded (good)"
   ]
  }
 ],
 "metadata": {
  "kernelspec": {
   "display_name": "Python 3",
   "language": "python",
   "name": "python3"
  },
  "language_info": {
   "codemirror_mode": {
    "name": "ipython",
    "version": 3
   },
   "file_extension": ".py",
   "mimetype": "text/x-python",
   "name": "python",
   "nbconvert_exporter": "python",
   "pygments_lexer": "ipython3",
   "version": "3.7.4"
  }
 },
 "nbformat": 4,
 "nbformat_minor": 2
}
